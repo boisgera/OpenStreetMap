{
 "cells": [
  {
   "cell_type": "markdown",
   "id": "6315f67b",
   "metadata": {},
   "source": [
    "# Cartographie avec OpenStreetMap\n",
    "\n",
    "Par [Sébastien Boisgérault](mailto:sebastien.boisgerault@minesparis.psl.eu), Mines Paris - PSL\n",
    "\n",
    "Licence: [Creative Commons Attribution 4.0 International (CC BY 4.0)](https://creativecommons.org/licenses/by/4.0/)\n",
    "\n"
   ]
  },
  {
   "cell_type": "markdown",
   "id": "2da21932",
   "metadata": {},
   "source": [
    "## Préambule\n",
    "\n",
    "Imports et fonctions utilitaires"
   ]
  },
  {
   "cell_type": "code",
   "execution_count": null,
   "id": "8324dfad",
   "metadata": {},
   "outputs": [],
   "source": [
    "# Standard library\n",
    "import inspect"
   ]
  },
  {
   "cell_type": "code",
   "execution_count": null,
   "id": "19af1a8b",
   "metadata": {},
   "outputs": [],
   "source": [
    "# Standard Library\n",
    "import doctest as _doctest\n",
    "\n",
    " # Jupyter\n",
    "import IPython.display\n",
    "\n",
    "def doctest(item, docstring):\n",
    "    item.__doc__ = docstring\n",
    "    header = f\"# `{item.__name__}`\\n\\n\"\n",
    "    cleandoc = inspect.cleandoc(item.__doc__) \n",
    "    markdown = IPython.display.Markdown(header + cleandoc)\n",
    "    IPython.display.display(markdown)\n",
    "    try:\n",
    "        name = item.__name__\n",
    "    except AttributeError:\n",
    "        name = \"(anonymous)\"\n",
    "    _doctest.run_docstring_examples(item, globs=globals(), name=name)"
   ]
  },
  {
   "cell_type": "code",
   "execution_count": null,
   "id": "f1052881",
   "metadata": {},
   "outputs": [],
   "source": [
    "# Scientific Stack (NumPy + Matplotlib)\n",
    "from numpy import *\n",
    "from matplotlib.pyplot import *"
   ]
  },
  {
   "cell_type": "markdown",
   "id": "f20b6a54",
   "metadata": {},
   "source": [
    "-----"
   ]
  },
  {
   "cell_type": "markdown",
   "id": "941233d3",
   "metadata": {},
   "source": [
    "## Coordonnées GPS\n",
    "\n",
    "La latitude et la longitude sont des coordonnées géographiques qui permettent de spécifier une position sur le globe terrestre. Plusieurs systèmes de représentation de ces grandeurs coexistent, notamment :\n",
    "\n",
    "  - un système \"traditionnel\", basé sur la décomposition de la coordonnée en degrés, minutes, secondes (et direction cardinale) ; on parle également de description DMS ou [sexagésimale](https://fr.wikipedia.org/wiki/Syst%C3%A8me_sexag%C3%A9simal). Par exemple, décrire une latitude par `40°41'21.3\"N` ou une longitude par `74°02'40.2\"W`.\n",
    "  \n",
    "  - un système \"rationnel\", représentant la coordonnée en degrés comme un nombre décimal (DD). Par exemple, décrire une latitude par `40.68925` ou une longitude par `-74.0445`.\n",
    "  \n",
    "\n",
    "### Références\n",
    "\n",
    "  - 📖 : [Degrees/Minutes/Seconds (DMS) vs Decimal Degrees (DD)](https://gisgeography.com/decimal-degrees-dd-minutes-seconds-dms/).\n",
    "\n",
    "\n"
   ]
  },
  {
   "cell_type": "markdown",
   "id": "087156f3",
   "metadata": {},
   "source": [
    "On choisit de représenter les directions cardinales par les nombres 1 ou -1 :"
   ]
  },
  {
   "cell_type": "code",
   "execution_count": null,
   "id": "151da30c",
   "metadata": {},
   "outputs": [],
   "source": [
    "NORTH = EAST = 1\n",
    "SOUTH = WEST = -1"
   ]
  },
  {
   "cell_type": "markdown",
   "id": "a07bf3f0",
   "metadata": {},
   "source": [
    " 🏗️ Développez une fonction `gc_to_decimal` permettant de convertir la représentation DMS en DD."
   ]
  },
  {
   "cell_type": "code",
   "execution_count": null,
   "id": "519c6a1a",
   "metadata": {},
   "outputs": [],
   "source": [
    "def gc_to_decimal(degrees, minutes, seconds, direction):\n",
    "    pass"
   ]
  },
  {
   "cell_type": "code",
   "execution_count": null,
   "id": "36312ea0",
   "metadata": {},
   "outputs": [],
   "source": [
    "doctest(gc_to_decimal, \"\"\"\n",
    "Convert a geographic coordinate from sexagesimal (DMS) to decimal (DD) representation.\n",
    "\n",
    "Arguments\n",
    "---------\n",
    "\n",
    "  - `degrees`: an `int` such that `0 <= degrees <= 180`\n",
    "\n",
    "  - `minutes`: an `int` such that `0 <= minutes < 60`\n",
    "\n",
    "  - `seconds`: a `float` such that `0.0 <= seconds < 60.0` \n",
    "\n",
    "  - `direction`: either `1` (`NORTH` or `EAST`) or `-1` (`SOUTH` or `WEST`)\n",
    "\n",
    "Returns\n",
    "-------\n",
    "\n",
    "  - `degrees`: a `float` such that `-180.0 <= degrees <= 180.0`\n",
    "\n",
    "Usage\n",
    "-----\n",
    "\n",
    "    >>> gc_to_decimal(40, 41, 21.3, NORTH)  # 40°41'21.3\"N \n",
    "    40.689249999999994\n",
    "\n",
    "    >>> gc_to_decimal(74, 2, 40.2, WEST)  # 74°02'40.2\"W\n",
    "    -74.0445\n",
    "\"\"\")"
   ]
  },
  {
   "cell_type": "markdown",
   "id": "97055851",
   "metadata": {},
   "source": [
    " 🏗️ Développer la fonctionnalité inverse, `gc_to_DMS`.\n",
    " \n",
    " ⚠️ Compte-tenu des erreurs d'arrondis, il est parfaitement normal que l'inversion ne soit pas rigoureusement exacte."
   ]
  },
  {
   "cell_type": "code",
   "execution_count": null,
   "id": "f8903bb7",
   "metadata": {},
   "outputs": [],
   "source": [
    "def gc_to_DMS(degrees):\n",
    "    pass"
   ]
  },
  {
   "cell_type": "code",
   "execution_count": null,
   "id": "80acb305",
   "metadata": {},
   "outputs": [],
   "source": [
    "doctest(gc_to_DMS, \"\"\"\n",
    "Convert a geographic coordinate from decimal (DD) to sexagesimal (DMS) representation.\n",
    "\n",
    "Arguments\n",
    "---------\n",
    "\n",
    "  - `degrees`: a `float` such that `-180.0 <= degrees <= 180.0`\n",
    "\n",
    "Returns\n",
    "-------\n",
    "\n",
    "A 4-uple `(degrees, minutes, seconds, direction)` with:\n",
    "\n",
    "  - `degrees`: an `int` such that `0 <= degrees <= 180`\n",
    "\n",
    "  - `minutes`: an `int` such that `0 <= minutes < 60`\n",
    "\n",
    "  - `seconds`: a `float` such that `0.0 <= seconds < 60.0` \n",
    "\n",
    "  - `direction`: either `1` (`NORTH` or `EAST`) or `-1` (`SOUTH` or `WEST`)\n",
    "\n",
    "Usage\n",
    "-----\n",
    "\n",
    "    >>> gc_to_DMS(40.689249999999994)  # 40°41'21.3\"N \n",
    "    (40, 41, 21.29999999997887, 1)\n",
    "\n",
    "    >>> gc_to_DMS(-74.0445)  # 74°02'40.2\"W\n",
    "    (74, 2, 40.199999999997544, -1)\n",
    "\n",
    "\"\"\")"
   ]
  },
  {
   "cell_type": "markdown",
   "id": "15e91b4d",
   "metadata": {},
   "source": [
    "🏗️ Développez une fonction représentant une latitude et une longitude (en représentation DMS ou DD) comme une chaîne de caractères telle que `40°41'21.3\"N` ou `74°02'40.2\"W`.\n",
    "\n",
    "⚠️ On limite volontairement la représentation des secondes à un chiffre après la virgule."
   ]
  },
  {
   "cell_type": "code",
   "execution_count": null,
   "id": "6b50af58",
   "metadata": {},
   "outputs": [],
   "source": [
    "def gc_str(latitude, longitude):\n",
    "    pass"
   ]
  },
  {
   "cell_type": "code",
   "execution_count": null,
   "id": "b122b2e6",
   "metadata": {},
   "outputs": [],
   "source": [
    "doctest(gc_str, \n",
    "\"\"\"\n",
    "Display latitude and longitude in the DMS format.\n",
    "\n",
    "Arguments\n",
    "---------\n",
    "\n",
    "  - `latitude`: a 4-uple `(degrees, minutes, seconds, direction)` or a float `degrees`\n",
    "\n",
    "  - `longitude`:  a 4-uple `(degrees, minutes, seconds, direction)` or a `float` `degrees`\n",
    "\n",
    "Returns\n",
    "-------\n",
    "\n",
    "  - A string of the geographic location in the DMS (degrees, minutes, seconds) format.\n",
    "\n",
    "    The seconds are represented with 1 digit after the decimal point.\n",
    "\n",
    "\n",
    "Usage\n",
    "-----\n",
    "\n",
    "    >>> print(gc_str((40, 41, 21.3, 1), (74, 2, 40.2, -1)))\n",
    "    40°41'21.3\"N 74°2'40.2\"W\n",
    "    >>> print(gc_str((40, 41, 21.29999999997887, 1), (74, 2, 40.199999999997544, -1)))\n",
    "    40°41'21.3\"N 74°2'40.2\"W\n",
    "    >>> print(gc_str(40.689249999999994, -74.0445))\n",
    "    40°41'21.3\"N 74°2'40.2\"W\n",
    "    \n",
    "\"\"\")"
   ]
  },
  {
   "cell_type": "markdown",
   "id": "67589e29",
   "metadata": {},
   "source": [
    "# Cartographie avec Folium"
   ]
  },
  {
   "cell_type": "markdown",
   "id": "0084222f",
   "metadata": {},
   "source": [
    "Folium est une bibliothèque Python permettant de visualiser simplement des données cartographiques.\n",
    "Ses objets de type `Map` sont compatibles avec les notebooks Jupyter : une variable désignant un tel objet sur la dernière ligne d'une cellule de code produira l'affichage d'une carte.\n",
    "Ces cartes sont également interactives.\n",
    "\n",
    "### Références\n",
    "\n",
    "  - 📖 [Folium documentation](http://python-visualization.github.io/folium/)."
   ]
  },
  {
   "cell_type": "markdown",
   "id": "9441e45b",
   "metadata": {},
   "source": [
    "🏗️ Installer et importer Folium dans ce notebook, puis affichez une carte mondiale dans la configuration par défaut."
   ]
  },
  {
   "cell_type": "code",
   "execution_count": null,
   "id": "5431faee",
   "metadata": {},
   "outputs": [],
   "source": [
    "pass"
   ]
  },
  {
   "cell_type": "markdown",
   "id": "f1939823",
   "metadata": {},
   "source": [
    "🏗️ Affichee une nouvelle carte centrée sur le lieu de coordonnées `40°41'21.3\"N 74°02'40.2\"W` avec un niveau de zoom initial de 18 (le maximum)."
   ]
  },
  {
   "cell_type": "code",
   "execution_count": null,
   "id": "aeef5262",
   "metadata": {},
   "outputs": [],
   "source": [
    "pass"
   ]
  },
  {
   "cell_type": "markdown",
   "id": "321048eb",
   "metadata": {},
   "source": [
    "🏗️ Ajoutez à la carte précédente un marqueur au même emplacement et associez-lui une [infobulle](https://fr.wikipedia.org/wiki/Infobulle) (🇺🇸 *tooltip*) appropriée ! Représenter à nouveau la carte."
   ]
  },
  {
   "cell_type": "code",
   "execution_count": null,
   "id": "31531161",
   "metadata": {},
   "outputs": [],
   "source": [
    "pass"
   ]
  },
  {
   "cell_type": "markdown",
   "id": "330269e2",
   "metadata": {},
   "source": [
    "# Photographies"
   ]
  },
  {
   "cell_type": "markdown",
   "id": "8615c36c",
   "metadata": {},
   "source": [
    "🏗️ Installez la bibliothèque [🐍 Pillow](https://pillow.readthedocs.io/) et utilisez-là pour afficher l'image `IMG_20220803_113815508.jpg` du repertoire `images`.\n",
    "\n",
    "ℹ️ **Information.** Les notebooks Jupyter savent afficher les objets image de Pillow. \n",
    "\n",
    "### Référence\n",
    "\n",
    "  - 📖 [Tutoriel Pillow (🇺🇸)](https://pillow.readthedocs.io/en/stable/handbook/tutorial.html)"
   ]
  },
  {
   "cell_type": "code",
   "execution_count": null,
   "id": "16eada4a",
   "metadata": {},
   "outputs": [],
   "source": [
    "pass"
   ]
  },
  {
   "cell_type": "markdown",
   "id": "7e7a8573",
   "metadata": {},
   "source": [
    "### Métadonnées\n",
    "\n",
    "Outre l'image elle-même, un fichier image peut contenir des informations à propos de la photo : la date à laquelle la photo a été prise, le lieu où elle a été prise, etc.\n",
    "\n",
    "### Références\n",
    "\n",
    "  - 📖 : [Exchangeable image file format (Exif)](https://fr.wikipedia.org/wiki/Exchangeable_image_file_format)"
   ]
  },
  {
   "cell_type": "markdown",
   "id": "3e542a61",
   "metadata": {},
   "source": [
    "🏗️ Installez le module [🐍 exif](https://pypi.org/project/exif/) puis créez l'objet de type `exif.Image` associé au fichier précédent et listez ses attributs. Quels sont les attributs qui pourraient contenir des informations sur le lieu ou a été prise cette photographie ? Listez ces attributs et leur valeurs."
   ]
  },
  {
   "cell_type": "code",
   "execution_count": null,
   "id": "0c54409e",
   "metadata": {},
   "outputs": [],
   "source": [
    "pass"
   ]
  },
  {
   "cell_type": "markdown",
   "id": "bbdab008",
   "metadata": {},
   "source": [
    "🏗️ Exploitez les informations précédentes pour déterminer les coordonnées géographiques du lieu de la photographie. Puis, utilisez Folium pour afficher une carte où ce lieu est représenté par un marqueur avec une infobulle contenant le nom du lieu."
   ]
  },
  {
   "cell_type": "code",
   "execution_count": null,
   "id": "5f230382",
   "metadata": {},
   "outputs": [],
   "source": [
    "pass"
   ]
  },
  {
   "cell_type": "markdown",
   "id": "cdb6ffeb",
   "metadata": {},
   "source": [
    "# XML en 10 minutes\n",
    "\n",
    "Pour aborder la suite du projet, nous allons devoir en apprendre un peu plus sur le format de données XML et les façons de manipuler ses documents. \n",
    "\n",
    "Voilà un exemple de document XML:"
   ]
  },
  {
   "cell_type": "code",
   "execution_count": null,
   "id": "9d7e7a5d",
   "metadata": {},
   "outputs": [],
   "source": [
    "xml_string = \"\"\"\n",
    "<data>\n",
    "    <country name=\"Liechtenstein\">\n",
    "        <rank>1</rank>\n",
    "        <year>2008</year>\n",
    "        <gdppc>141100</gdppc>\n",
    "        <neighbor name=\"Austria\" direction=\"E\"/>\n",
    "        <neighbor name=\"Switzerland\" direction=\"W\"/>\n",
    "    </country>\n",
    "    <country name=\"Singapore\">\n",
    "        <rank>4</rank>\n",
    "        <year>2011</year>\n",
    "        <gdppc>59900</gdppc>\n",
    "        <neighbor name=\"Malaysia\" direction=\"N\"/>\n",
    "    </country>\n",
    "    <country name=\"Panama\">\n",
    "        <rank>68</rank>\n",
    "        <year>2011</year>\n",
    "        <gdppc>13600</gdppc>\n",
    "        <neighbor name=\"Costa Rica\" direction=\"W\"/>\n",
    "        <neighbor name=\"Colombia\" direction=\"E\"/>\n",
    "    </country>\n",
    "</data>\n",
    "\"\"\""
   ]
  },
  {
   "cell_type": "markdown",
   "id": "7ef33a7e",
   "metadata": {},
   "source": [
    "Un document XML est une structure hiérarchique (un arbre) composée d'éléments. Chaque élément \n",
    "\n",
    "  - a un **type** (ou 🇫🇷 étiquette / 🇺🇸 **tag**),\n",
    "\n",
    "  - est délimité par des **balises** (ouvrantes et fermantes),\n",
    "  \n",
    "  - peut avoir des **attributs**\n",
    "  \n",
    "  - peut contenir et/ou être suivi de texte \n",
    "  \n",
    "  - peut contenir d'autres éléments (ses **enfants**).\n",
    "\n",
    "Ainsi, \n",
    "\n",
    "  - la racine du document `xml_string` est de type `data`. \n",
    "    Sa balise ouvrante est `<data>` et sa balise fermante `</data>`.\n",
    "  \n",
    "  - Il n'a pas d'attributs, mais a trois enfants, tous de type `country`. \n",
    "  \n",
    "  - Les éléments du type `country` possèdent un attribut `name`, \n",
    "    ont trois enfants de type `rank`, `year`, `gdppc`, \n",
    "    puis un nombre variable d'éléments de type `neighbor`.\n",
    "  \n",
    "  - Les éléments de type `rank`, `year` et `gdppc` contiennent du texte qui représente des nombres entiers.\n",
    "  \n",
    "  - Les élément de type `neighbor` ont des attributs `name` et `direction` mais ne contiennent pas de texte et n'ont pas d'enfants. \n",
    "    Dans ce cas, au lieu d'une balise ouvrante immédiatemment suivie d'une balise fermante, \n",
    "    par exemple \n",
    "  \n",
    "        <neighbor name=\"Austria\" direction=\"E\"></neighbor>\n",
    "      \n",
    "    une balise **auto-fermante** \n",
    "  \n",
    "        <neighbor name=\"Austria\" direction=\"E\"/> \n",
    "      \n",
    "    est utilisée."
   ]
  },
  {
   "cell_type": "markdown",
   "id": "7b039fe4",
   "metadata": {},
   "source": [
    "La bibliothèque standard `ElementTree` va nous permettre d'accéder à ces données."
   ]
  },
  {
   "cell_type": "code",
   "execution_count": null,
   "id": "b4b2974b",
   "metadata": {},
   "outputs": [],
   "source": [
    "# Python Standard Library\n",
    "import xml.etree.ElementTree as ET"
   ]
  },
  {
   "cell_type": "code",
   "execution_count": null,
   "id": "af8a4b9b",
   "metadata": {},
   "outputs": [],
   "source": [
    "root = ET.XML(xml_string)\n",
    "root"
   ]
  },
  {
   "cell_type": "code",
   "execution_count": null,
   "id": "1150974f",
   "metadata": {},
   "outputs": [],
   "source": [
    "isinstance(root, ET.Element)"
   ]
  },
  {
   "cell_type": "code",
   "execution_count": null,
   "id": "e8567190",
   "metadata": {},
   "outputs": [],
   "source": [
    "print(ET.tostring(root, encoding=\"unicode\"))"
   ]
  },
  {
   "cell_type": "code",
   "execution_count": null,
   "id": "1ae00fae",
   "metadata": {},
   "outputs": [],
   "source": [
    "data = root"
   ]
  },
  {
   "cell_type": "code",
   "execution_count": null,
   "id": "a768295b",
   "metadata": {},
   "outputs": [],
   "source": [
    "data.tag == \"data\""
   ]
  },
  {
   "cell_type": "code",
   "execution_count": null,
   "id": "1e1e0b0a",
   "metadata": {},
   "outputs": [],
   "source": [
    "data.attrib"
   ]
  },
  {
   "cell_type": "code",
   "execution_count": null,
   "id": "0da082ab",
   "metadata": {},
   "outputs": [],
   "source": [
    "countries = data[:]  # Get a list of all children\n",
    "countries"
   ]
  },
  {
   "cell_type": "code",
   "execution_count": null,
   "id": "9b7df157",
   "metadata": {},
   "outputs": [],
   "source": [
    "data.text  # Whitespace only, used for indentation (non significant)"
   ]
  },
  {
   "cell_type": "code",
   "execution_count": null,
   "id": "d04ed385",
   "metadata": {},
   "outputs": [],
   "source": [
    "data.tail is None or data.tail == \"\"  # The root never has text after its closing tag."
   ]
  },
  {
   "cell_type": "code",
   "execution_count": null,
   "id": "5e347506",
   "metadata": {},
   "outputs": [],
   "source": [
    "first_country = data[0]\n",
    "first_country"
   ]
  },
  {
   "cell_type": "code",
   "execution_count": null,
   "id": "07534fee",
   "metadata": {},
   "outputs": [],
   "source": [
    "print(ET.tostring(root, encoding=\"unicode\"))"
   ]
  },
  {
   "cell_type": "code",
   "execution_count": null,
   "id": "08a1382e",
   "metadata": {},
   "outputs": [],
   "source": [
    "first_country.attrib"
   ]
  },
  {
   "cell_type": "code",
   "execution_count": null,
   "id": "4952f1e8",
   "metadata": {},
   "outputs": [],
   "source": [
    "liechtenstein = first_country"
   ]
  },
  {
   "cell_type": "code",
   "execution_count": null,
   "id": "14e1b14d",
   "metadata": {},
   "outputs": [],
   "source": [
    "liechtenstein[:]"
   ]
  },
  {
   "cell_type": "code",
   "execution_count": null,
   "id": "e30ba8ac",
   "metadata": {},
   "outputs": [],
   "source": [
    "rank, year, gdppc = liechtenstein[0:3]\n",
    "neighbors = liechtenstein[3:]"
   ]
  },
  {
   "cell_type": "code",
   "execution_count": null,
   "id": "5cf35c26",
   "metadata": {},
   "outputs": [],
   "source": [
    "rank"
   ]
  },
  {
   "cell_type": "code",
   "execution_count": null,
   "id": "b3d8ae33",
   "metadata": {},
   "outputs": [],
   "source": [
    "ET.tostring(rank, encoding=\"unicode\")"
   ]
  },
  {
   "cell_type": "code",
   "execution_count": null,
   "id": "1733b507",
   "metadata": {},
   "outputs": [],
   "source": [
    "print(ET.tostring(rank, encoding=\"unicode\"))"
   ]
  },
  {
   "cell_type": "code",
   "execution_count": null,
   "id": "ebf4388e",
   "metadata": {},
   "outputs": [],
   "source": [
    "rank.text"
   ]
  },
  {
   "cell_type": "code",
   "execution_count": null,
   "id": "c6db668f",
   "metadata": {},
   "outputs": [],
   "source": [
    "rank.tail"
   ]
  },
  {
   "cell_type": "code",
   "execution_count": null,
   "id": "3ace5b54",
   "metadata": {},
   "outputs": [],
   "source": [
    "year.text"
   ]
  },
  {
   "cell_type": "code",
   "execution_count": null,
   "id": "1c57b976",
   "metadata": {},
   "outputs": [],
   "source": [
    "gdppc.text"
   ]
  },
  {
   "cell_type": "code",
   "execution_count": null,
   "id": "f43016fd",
   "metadata": {},
   "outputs": [],
   "source": [
    "first_neighbor = neighbors[0]"
   ]
  },
  {
   "cell_type": "code",
   "execution_count": null,
   "id": "a2a31604",
   "metadata": {},
   "outputs": [],
   "source": [
    "first_neighbor.tag"
   ]
  },
  {
   "cell_type": "code",
   "execution_count": null,
   "id": "edbe6c18",
   "metadata": {},
   "outputs": [],
   "source": [
    "first_neighbor.attrib"
   ]
  },
  {
   "cell_type": "code",
   "execution_count": null,
   "id": "8b694990",
   "metadata": {},
   "outputs": [],
   "source": [
    "austria = first_neighbor"
   ]
  },
  {
   "cell_type": "code",
   "execution_count": null,
   "id": "339e111c",
   "metadata": {},
   "outputs": [],
   "source": [
    "ET.tostring(austria, encoding=\"unicode\")"
   ]
  },
  {
   "cell_type": "code",
   "execution_count": null,
   "id": "de99425c",
   "metadata": {},
   "outputs": [],
   "source": [
    "# Self-closing tag: no child and no text\n",
    "austria[:] == [] and (austria.text is None or austria.text) == \"\""
   ]
  },
  {
   "cell_type": "code",
   "execution_count": null,
   "id": "bd935914",
   "metadata": {},
   "outputs": [],
   "source": [
    "austria.tail"
   ]
  },
  {
   "cell_type": "markdown",
   "id": "e6a64abe",
   "metadata": {},
   "source": [
    "## OSM XML\n",
    "\n",
    "OpenStreetMap utilise pour décrire ses cartes le format [OSM XML](https://wiki.openstreetmap.org/wiki/OSM_XML). Ce format est un \"dialecte\" de XML : les cartes OSM sont toutes des documents XML valides, mais doivent en plus satisfaire des contraintes structurelles propres au dialecte."
   ]
  },
  {
   "cell_type": "markdown",
   "id": "1dc3b2eb",
   "metadata": {},
   "source": [
    "Pour en apprendre plus sur la structure des cartes OSM, on procédera de façon expérimentale, en utilisant la carte du jardin du Luxembourg, dont le fichier est `maps/jardin-du-luxembourg.osm`.\n",
    "\n",
    "🏗️ Chargez ce fichier sous forme d'`Element` XML, sous le nom de variable `osm_xml`."
   ]
  },
  {
   "cell_type": "code",
   "execution_count": null,
   "id": "9cfffebe",
   "metadata": {},
   "outputs": [],
   "source": [
    "pass"
   ]
  },
  {
   "cell_type": "markdown",
   "id": "e4890e3b",
   "metadata": {},
   "source": [
    "Dans les documents OSM XML, les attributs `text` and `tail` des éléments ne contiennent pas d'information significative ; ils sont uniquement utilisés pour indenter les données du fichier pour qu'il soit plus facile à lire. Soient ils valent `None`, soit une chaîne de caractères ne contenant que des caractéres d'espacement (🇺🇸 *whitespace*) : espaces, tabulations, retours chariots, etc. "
   ]
  },
  {
   "cell_type": "markdown",
   "id": "f378900c",
   "metadata": {},
   "source": [
    "Nous allons profiter de cette situation pour transformer notre document XML en un document plus simple et qui vous sera dans doute plus familier, car utilisant uniquement des dictionnaires, des listes et des chaînes de caractères.\n",
    "\n",
    "La transformation est la suivante: un élement XML est transformé en un dictionnaire associant :\n",
    "\n",
    "  - à la clé `\"type\"` le type de l'élément (une chaîne de caractères), \n",
    "  \n",
    "  - à la clé `\"attributes\"` les attributs de l'élément et leurs valeurs (comme un dictionnaire) et \n",
    "  \n",
    "  - à la clé `\"children\"` la liste vide `[]` s'il n'a pas d'enfants, ou dans le cas contraire \n",
    "    la liste de ses enfants, transformés au préalable.\n",
    "\n",
    "Les attributs `text` et `tail` des éléments XML sont (volontairement) ignorés dans cette transformation.\n",
    "\n",
    "On appelera encore élement tout dictionnaire contenant ces trois attributs.\n",
    "\n",
    "🏗️ Implémentez une fonction `XML_elt_to_dict` opérant cette transformation, puis transformez la carte `osm_xml` en un dictionnaire `osm` et affichez le résultat."
   ]
  },
  {
   "cell_type": "code",
   "execution_count": null,
   "id": "998654c8",
   "metadata": {},
   "outputs": [],
   "source": [
    "def XML_elt_to_dict(xml): \n",
    "    pass"
   ]
  },
  {
   "cell_type": "code",
   "execution_count": null,
   "id": "95f57162",
   "metadata": {},
   "outputs": [],
   "source": [
    "doctest(XML_elt_to_dict, \"\"\"\n",
    "\n",
    "## Usage\n",
    "\n",
    "    >>> import xml.etree.ElementTree as ET\n",
    "    >>> xml = ET.XML('''\n",
    "    ... <data>\n",
    "    ...   <country name=\"Liechtenstein\">\n",
    "    ...     <neighbor name=\"Austria\" direction=\"E\" />\n",
    "    ...     <neighbor name=\"Switzerland\" direction=\"W\" />\n",
    "    ...   </country>\n",
    "    ...   <country name=\"Singapore\">\n",
    "    ...     <neighbor name=\"Malaysia\" direction=\"N\" />\n",
    "    ...   </country>\n",
    "    ...   <country name=\"Panama\">\n",
    "    ...     <neighbor name=\"Costa Rica\" direction=\"W\" />\n",
    "    ...     <neighbor name=\"Colombia\" direction=\"E\" />\n",
    "    ...   </country>\n",
    "    ... </data>\n",
    "    ... ''')\n",
    "    >>> XML_elt_to_dict(xml)  # doctest: +NORMALIZE_WHITESPACE\n",
    "    {'type': 'data', \n",
    "     'attributes': {}, \n",
    "     'children': \n",
    "       [{'type': 'country', \n",
    "         'attributes': {'name': 'Liechtenstein'}, \n",
    "         'children': \n",
    "           [{'type': 'neighbor', \n",
    "             'attributes': {'name': 'Austria', 'direction': 'E'}, \n",
    "             'children': []}, \n",
    "            {'type': 'neighbor', \n",
    "             'attributes': {'name': 'Switzerland', 'direction': 'W'}, \n",
    "             'children': []}]}, \n",
    "         {'type': 'country', \n",
    "          'attributes': {'name': 'Singapore'}, \n",
    "          'children':\n",
    "            [{'type': 'neighbor', \n",
    "              'attributes': {'name': 'Malaysia', 'direction': 'N'}, \n",
    "              'children': []}]}, \n",
    "         {'type': 'country', \n",
    "          'attributes': {'name': 'Panama'}, \n",
    "          'children': \n",
    "            [{'type': 'neighbor', \n",
    "              'attributes': {'name': 'Costa Rica', 'direction': 'W'}, \n",
    "              'children': []}, \n",
    "             {'type': 'neighbor', \n",
    "              'attributes': {'name': 'Colombia', 'direction': 'E'}, \n",
    "              'children': []}]}]}\n",
    "\"\"\")"
   ]
  },
  {
   "cell_type": "markdown",
   "id": "fd5ed189",
   "metadata": {},
   "source": [
    "## Modèle de données OSM"
   ]
  },
  {
   "cell_type": "markdown",
   "id": "97969ca0",
   "metadata": {},
   "source": [
    "🏗️ Déterminer expérimentalement:\n",
    "\n",
    "  - Le type de l'élément racine de cette carte\n",
    "  \n",
    "  - Les types possibles de ses enfants \n",
    "  \n",
    "  - Les types possibles de ses petit-enfants\n",
    " \n",
    "A-t'il des arrière-petit-enfants ? "
   ]
  },
  {
   "cell_type": "code",
   "execution_count": null,
   "id": "de79e3bb",
   "metadata": {},
   "outputs": [],
   "source": [
    "pass"
   ]
  },
  {
   "cell_type": "markdown",
   "id": "cf536fcf",
   "metadata": {},
   "source": [
    "🏗️ Définir un ensemble `OSM_XML_TYPES` contenant tous les types d'éléments présents dans la carte."
   ]
  },
  {
   "cell_type": "code",
   "execution_count": null,
   "id": "589e455f",
   "metadata": {},
   "outputs": [],
   "source": [
    "pass"
   ]
  },
  {
   "cell_type": "markdown",
   "id": "8f0103e5",
   "metadata": {},
   "source": [
    "🏗️ Développez une fonction `osm_iter` prenant comme argument un dictionnaire de carte OSM et renvoyant un objet itérable parcourant tous les élements de la carte dans leur ordre d'apparition."
   ]
  },
  {
   "cell_type": "code",
   "execution_count": null,
   "id": "42765b8f",
   "metadata": {},
   "outputs": [],
   "source": [
    "pass"
   ]
  },
  {
   "cell_type": "markdown",
   "id": "60d46ee8",
   "metadata": {},
   "source": [
    "L'exploration manuelle du dictionnaire de la carte du Jardin du Luxembourg laisse \n",
    "entrevoir une structure de données soumises à des nombreuses règles. \n",
    "Par exemple, il semble a priori que\n",
    "\n",
    "  1. seule la racine du document est un élément de type `osm`, \n",
    "\n",
    "  2. cette racine du document a (au moins) un enfant du type `bounds`,\n",
    "  \n",
    "  3. tous les noeuds sont des enfants de la racine, \n",
    "  \n",
    "  4. les noeuds possédent (parfois ?) des attributs `lat` et `lon`,\n",
    "\n",
    "  5. les noeuds, voies et relations possèdent (parfois) des étiquettes (éléments `tag`)\n",
    "\n",
    "  6. les attributs `k` et `v` sont les seuls attributs possibles des tags.\n",
    "\n",
    "On va tâcher de vérifier ces règles et d'en faire émerger d'autres. Pour cela,\n",
    "on va déterminer le **schéma** des documents OSM en supposant la carte\n",
    "du jardin du Luxembourg représentative (car assez complexe/grande pour faire\n",
    "apparaître toutes les constructions possibles). \n",
    "\n",
    "Ce schéma que l'on désignera par le nom `OSM_SCHEMA` est un dictionnaire \n",
    "\n",
    "  - dont les clés sont les types possibles des éléments d'une carte OSM,\n",
    "\n",
    "  - qui associe à chaque type un dictionnaire contenant deux clés :\n",
    "\n",
    "    - `attributes`: un ensemble contenant tous les noms des attributs possibles du type,\n",
    "\n",
    "    - `children`: les types des enfants qu'il peut avoir.\n",
    "\n",
    "🏗️ Implémentez une fonction `get_schema` qui renvoie le schéma associé à la carte\n",
    "qu'elle prend en argument."
   ]
  },
  {
   "cell_type": "code",
   "execution_count": null,
   "id": "4f704391",
   "metadata": {
    "scrolled": false
   },
   "outputs": [],
   "source": [
    "def get_schema(osm):\n",
    "    pass"
   ]
  },
  {
   "cell_type": "code",
   "execution_count": null,
   "id": "ef76bf89",
   "metadata": {},
   "outputs": [],
   "source": [
    "doctest(get_schema, \"\"\"\n",
    "## Usage\n",
    "\n",
    "    >>> import xml.etree.ElementTree as ET\n",
    "    >>> xml = ET.XML('''\n",
    "    ... <data>\n",
    "    ...   <country name=\"Liechtenstein\">\n",
    "    ...     <neighbor name=\"Austria\" direction=\"E\" />\n",
    "    ...     <neighbor name=\"Switzerland\" direction=\"W\" />\n",
    "    ...   </country>\n",
    "    ...   <country name=\"Singapore\">\n",
    "    ...     <neighbor name=\"Malaysia\" direction=\"N\" />\n",
    "    ...   </country>\n",
    "    ...   <country name=\"Panama\">\n",
    "    ...     <neighbor name=\"Costa Rica\" direction=\"W\" />\n",
    "    ...     <neighbor name=\"Colombia\" direction=\"E\" />\n",
    "    ...   </country>\n",
    "    ... </data>\n",
    "    ... ''')\n",
    "    >>> dct = XML_elt_to_dict(xml)\n",
    "    >>> get_schema(dct)  # doctest: +NORMALIZE_WHITESPACE\n",
    "    {'data':\n",
    "       {'attributes': set(), \n",
    "        'children': {'country'}}, \n",
    "     'country': \n",
    "       {'attributes': {'name'}, \n",
    "        'children': {'neighbor'}}, \n",
    "     'neighbor': \n",
    "       {'attributes': {'name', 'direction'}, \n",
    "        'children': set()}}\n",
    "\"\"\")"
   ]
  },
  {
   "cell_type": "markdown",
   "id": "98d25a68",
   "metadata": {},
   "source": [
    "🏗️ Vérifiez que les règles 1. à 6. sont valables."
   ]
  },
  {
   "cell_type": "code",
   "execution_count": null,
   "id": "96706c23",
   "metadata": {},
   "outputs": [],
   "source": [
    "pass"
   ]
  },
  {
   "cell_type": "markdown",
   "id": "41912501",
   "metadata": {},
   "source": [
    "## Recherche dans la carte"
   ]
  },
  {
   "cell_type": "markdown",
   "id": "192dbe8e",
   "metadata": {},
   "source": [
    "🏗️ Implémentez une fonction `search` permettant de lister ceux qui parmi les enfants d'une carte `osm` les élements sont d'un type donné et d'un attribut id donné. En l'absence de l'un et/ou de l'autre des arguments, on considérera que tous les éléments satisfont ce critère (en particulier, si l'on ne spécifie ni type ni id, tous les enfants de la carte devront être renvoyés)."
   ]
  },
  {
   "cell_type": "code",
   "execution_count": null,
   "id": "53f17bf7",
   "metadata": {},
   "outputs": [],
   "source": [
    "def search(osm, type=None, id=None):\n",
    "    pass"
   ]
  },
  {
   "cell_type": "code",
   "execution_count": null,
   "id": "e1f1e8ff",
   "metadata": {
    "scrolled": false
   },
   "outputs": [],
   "source": [
    "doctest(search, \"\"\"\n",
    "Search the children of a map by feature.\n",
    "\n",
    "Arguments\n",
    "---------\n",
    "\n",
    "  - `type`: the type of elements to search for (a string) or `None` for all elements,\n",
    "\n",
    "  - `id`: the id of the elements to search for (a string) or `None` for all elements.\n",
    "\n",
    "The function returns the elements that meet ALL of these conditions. \n",
    "\n",
    "\n",
    "Returns\n",
    "-------\n",
    "\n",
    "  - `found`: a list of elements\n",
    "\n",
    "\n",
    "Usage\n",
    "-----\n",
    "\n",
    "    >>> children = osm[\"children\"]\n",
    "    >>> search(osm) == children\n",
    "    True\n",
    "    >>> bounds = search(osm, type=\"bounds\")\n",
    "    >>> len(bounds) == 1\n",
    "    True\n",
    "    >>> bounds[0]\n",
    "    {'type': 'bounds', 'attributes': {'minlat': '48.8440900', 'minlon': '2.3300500', 'maxlat': '48.8493300', 'maxlon': '2.3426800'}, 'children': []}\n",
    "\n",
    "    >>> nodes = search(osm, type=\"node\")\n",
    "    >>> len(nodes)\n",
    "    12993\n",
    "    >>> ways = search(osm, type=\"way\")\n",
    "    >>> len(ways)\n",
    "    1308\n",
    "    >>> relations = search(osm, type=\"relation\")\n",
    "    >>> len(relations)\n",
    "    262\n",
    "\n",
    "    >>> len(children) == 1 + 12993 + 1308 + 262\n",
    "    True\n",
    "\n",
    "    >>> luxembourg_id = \"128206209\"\n",
    "    >>> found = search(osm, id=luxembourg_id)\n",
    "    >>> len(found) == 1\n",
    "    True\n",
    "    >>> luxembourg = found[0]\n",
    "    >>> luxembourg  # doctest: +ELLIPSIS, +NORMALIZE_WHITESPACE\n",
    "    {'type': 'way', 'attributes': {'id': '128206209', ... \n",
    "    {'type': 'tag', 'attributes': {'k': 'wikipedia', 'v': 'fr:Jardin du Luxembourg'}, 'children': []}]}\n",
    "\n",
    "    >>> found == search(osm, type=\"way\", id=luxembourg_id)\n",
    "    True\n",
    "    >>> [] == search(osm, type=\"node\", id=luxembourg_id)\n",
    "    True\n",
    "\n",
    "\"\"\")"
   ]
  },
  {
   "cell_type": "markdown",
   "id": "2fb8abef",
   "metadata": {},
   "source": [
    "🏗️ Enrichissez votre fonction pour qu'elle permette également de chercher des \n",
    "éléments selon les clés et les valeurs de leurs (éventuelles) étiquettes."
   ]
  },
  {
   "cell_type": "code",
   "execution_count": null,
   "id": "2177ceb7",
   "metadata": {},
   "outputs": [],
   "source": [
    "def search(osm, type=None, id=None, key=None, value=None):\n",
    "    pass"
   ]
  },
  {
   "cell_type": "code",
   "execution_count": null,
   "id": "f5944b3b",
   "metadata": {
    "scrolled": false
   },
   "outputs": [],
   "source": [
    "doctest(search, \"\"\"\n",
    "Search the children of a map by feature.\n",
    "\n",
    "Arguments\n",
    "---------\n",
    "\n",
    "  - `type`: the type of elements to search for (a string) or `None` for all elements,\n",
    "\n",
    "  - `id`: the id of the elements to search for (a string) or `None` for all elements,\n",
    "\n",
    "  - `key`: search for elements having a tag with this key (or all if `key` is `None`)\n",
    "\n",
    "  - `value`: search for elements having a tag with this value (or all if `value` is `None`)\n",
    "\n",
    "The function returns the elements that meet ALL of these conditions. \n",
    "If both a key and a value are specified, the key and value should match for\n",
    "the same attributes.\n",
    "\n",
    "Returns\n",
    "-------\n",
    "\n",
    "  - `found`: a list of elements\n",
    "\n",
    "Usage\n",
    "-----\n",
    "\n",
    "    >>> children = osm[\"children\"]\n",
    "    >>> search(osm) == children\n",
    "    True\n",
    "    >>> bounds = search(osm, type=\"bounds\")\n",
    "    >>> len(bounds) == 1\n",
    "    True\n",
    "    >>> bounds[0]\n",
    "    {'type': 'bounds', 'attributes': {'minlat': '48.8440900', 'minlon': '2.3300500', 'maxlat': '48.8493300', 'maxlon': '2.3426800'}, 'children': []}\n",
    "\n",
    "    >>> nodes = search(osm, type=\"node\")\n",
    "    >>> len(nodes)\n",
    "    12993\n",
    "    >>> ways = search(osm, type=\"way\")\n",
    "    >>> len(ways)\n",
    "    1308\n",
    "    >>> relations = search(osm, type=\"relation\")\n",
    "    >>> len(relations)\n",
    "    262\n",
    "\n",
    "    >>> len(children) == 1 + 12993 + 1308 + 262\n",
    "    True\n",
    "\n",
    "    >>> parks = search(osm, key=\"leisure\", value=\"park\")\n",
    "    >>> len(parks)\n",
    "    4\n",
    "\n",
    "    >>> found = search(osm, key=\"name\", value=\"Jardin du Luxembourg\")\n",
    "    >>> len(found)\n",
    "    1\n",
    "    >>> luxembourg = found[0]\n",
    "    >>> luxembourg in parks\n",
    "    True\n",
    "\n",
    "    >>> luxembourg_id = luxembourg[\"attributes\"][\"id\"]\n",
    "    >>> luxembourg_id\n",
    "    '128206209'\n",
    "    >>> found = search(osm, id=luxembourg_id)\n",
    "    >>> len(found) == 1\n",
    "    True\n",
    "    >>> luxembourg in found\n",
    "    True\n",
    "\n",
    "    >>> found == search(osm, type=\"way\", id=luxembourg_id)\n",
    "    True\n",
    "    >>> [] == search(osm, type=\"node\", id=luxembourg_id)\n",
    "    True\n",
    "\n",
    "  \"\"\")"
   ]
  },
  {
   "cell_type": "markdown",
   "id": "8d524d37",
   "metadata": {},
   "source": [
    "Des recherches répétées peuvent finir par demander beaucoup de temps. \n",
    "Les deux cellules qui suivent fournissent une estimation du temps nécessaire pour une unique recherche d'éléments par id (ici, le jardin du luxembourg)"
   ]
  },
  {
   "cell_type": "code",
   "execution_count": null,
   "id": "50474be5",
   "metadata": {},
   "outputs": [],
   "source": [
    "jardin_du_luxembourg_id = \"128206209\""
   ]
  },
  {
   "cell_type": "code",
   "execution_count": null,
   "id": "4de5727e",
   "metadata": {},
   "outputs": [],
   "source": [
    "%%timeit\n",
    "search(osm, id=jardin_du_luxembourg_id)"
   ]
  },
  {
   "cell_type": "markdown",
   "id": "63dec07a",
   "metadata": {},
   "source": [
    "En créant une fois pour toute un dictionnaire indexant des éléments par leur id\n",
    "(supposé unique dans le document), on peut considérablement améliorer la performance de cette recherche.\n",
    "\n",
    "🏗️ Créez un tel index pour la carte du Jardin du Luxembourg, \n",
    "puis évaluez le temps que demande la création d'un tel index. Comparer ce temps\n",
    "avec celui que prend une simple recherche par id ; est-ce significativement \n",
    "plus long ? 10x ? 100x ? 1000x plus long ? Une fois l'index créé, \n",
    "combien de temps faut-il pour l'utiliser pour une recherche par id ? A nouveau,\n",
    "comparer avec le temps que prend une recherche classique."
   ]
  },
  {
   "cell_type": "code",
   "execution_count": null,
   "id": "cb74f2ed",
   "metadata": {},
   "outputs": [],
   "source": [
    "pass"
   ]
  },
  {
   "cell_type": "code",
   "execution_count": null,
   "id": "e90a10c4",
   "metadata": {},
   "outputs": [],
   "source": [
    "%%timeit\n",
    "index[\"128206209\"] "
   ]
  },
  {
   "cell_type": "markdown",
   "id": "f9e08866",
   "metadata": {},
   "source": [
    "## Tracé des cartes"
   ]
  },
  {
   "cell_type": "markdown",
   "id": "f5198dfe",
   "metadata": {},
   "source": [
    "Dans le format OSM, les voies sont représentées par des éléments de type `way`.\n",
    "Leur fonction principale est de référencer une liste de noeuds dont la localisation\n",
    "(latitude et longitude).\n",
    "\n",
    "🏗️ Explorez la structure des voies dans le document, puis une fois que vous avez\n",
    "compris leur lien avec les noeuds, implémentez la fonction `compute_latlon` \n",
    "spécifiée ci-dessous."
   ]
  },
  {
   "cell_type": "code",
   "execution_count": null,
   "id": "c3e14424",
   "metadata": {},
   "outputs": [],
   "source": [
    "def compute_latlon(osm, way):\n",
    "    pass"
   ]
  },
  {
   "cell_type": "code",
   "execution_count": null,
   "id": "b8db7397",
   "metadata": {},
   "outputs": [],
   "source": [
    "doctest(compute_latlon, \"\"\"\n",
    "Return the latitude and longitude of all nodes refered to by a way\n",
    "\n",
    "## Arguments\n",
    "\n",
    "  - `osm`: an OSM map element\n",
    "\n",
    "  - `way`: an OSM way element\n",
    "\n",
    "## Returns\n",
    "\n",
    "  - `latlon`: a NumPy array of floats of shape `(2, n)` \n",
    "    where `n` is the list of nodes in the way.\n",
    "\n",
    "## Usage\n",
    "\n",
    "    >>> osm = {\n",
    "    ...     \"type\": \"osm\",\n",
    "    ...     \"attributes\": [], \n",
    "    ...     \"children\":\n",
    "    ...     [\n",
    "    ...         {\"type\": \"node\", \"attributes\": {\"id\": \"5\", \"lat\": \"45.0\", \"lon\": \"90.0\"}, \"children\": []},\n",
    "    ...         {\"type\": \"node\", \"attributes\": {\"id\": \"42\", \"lat\": \"-45.0\", \"lon\": \"0.0\"}, \"children\": []},\n",
    "    ...         {\"type\": \"node\", \"attributes\": {\"id\": \"0\", \"lat\": \"0.0\", \"lon\": \"0.0\"}, \"children\": []},\n",
    "    ...         {\"type\": \"way\", \"attributes\": {}, \"children\":\n",
    "    ...             [\n",
    "    ...               {\"type\": \"nd\", \"attributes\": {\"ref\": \"42\"}, \"children\": []},\n",
    "    ...               {\"type\": \"nd\", \"attributes\": {\"ref\": \"5\"}, \"children\": []},\n",
    "    ...               {\"type\": \"nd\", \"attributes\": {\"ref\": \"0\"}, \"children\": []},\n",
    "    ...             ]\n",
    "    ...         }\n",
    "    ...     ]\n",
    "    ... }\n",
    "    >>> way = search(osm, \"way\")[0]\n",
    "    >>> compute_latlon(osm, way)\n",
    "    array([[-45.,  45.,   0.],\n",
    "           [  0.,  90.,   0.]])\n",
    "\n",
    "\"\"\")"
   ]
  },
  {
   "cell_type": "markdown",
   "id": "0462bb25",
   "metadata": {},
   "source": [
    "🏗️ Tracer avec Matplotlib l'ensemble des voies, avec la longitude en abscisse et la latitude en ordonnée. On tracera toutes ces voie en noir (sur fond blanc)  en ajustant la largeur du trait\n",
    "pour que le résultat soit aussi lisible que possible. On s'assuera également que les axes sont orthonormés."
   ]
  },
  {
   "cell_type": "code",
   "execution_count": null,
   "id": "488c0772",
   "metadata": {},
   "outputs": [],
   "source": [
    "pass"
   ]
  },
  {
   "cell_type": "markdown",
   "id": "c3fd45d8",
   "metadata": {},
   "source": [
    "Vous avez sans doute constaté qu'une partie des voies déborde de la zone qui nous intéresse.\n",
    "\n",
    "🏗️ Utilisez l'information sur les bornes de la latitude et la longitude présente dans la carte pour réiterer le tracé en affichant uniquement la zone d'intérêt.\n",
    " "
   ]
  },
  {
   "cell_type": "code",
   "execution_count": null,
   "id": "c859aab7",
   "metadata": {},
   "outputs": [],
   "source": [
    "pass"
   ]
  },
  {
   "cell_type": "markdown",
   "id": "e47f75f8",
   "metadata": {},
   "source": [
    "La carte que vous venez d'afficher ne ressemble pas tout à fait à celles que fournissent des OpenStreetMap ou Google Maps ; en particulier des motifs géométriques tels que des carrés ou des cercles ne sont pas affichés comme tels, mais sont déformés.\n",
    "\n",
    "🏗️ Renseignez-vous sur la projection de Mercator (la version \"pseudo-Mercator\" utilisant un modèle sphérique du globe de rayon 6378137 mètres est suffisante pour nos besoins) et développez une fonction `compute_xy` qui prend les même arguments que `compute_latlon` mais renvoie un tableau NumPy contenant les coordonnées dans le système projeté."
   ]
  },
  {
   "cell_type": "code",
   "execution_count": null,
   "id": "f2dc3221",
   "metadata": {},
   "outputs": [],
   "source": [
    "pass"
   ]
  },
  {
   "cell_type": "code",
   "execution_count": null,
   "id": "018a3c88",
   "metadata": {},
   "outputs": [],
   "source": [
    "doctest(compute_xy, \"\"\"\n",
    "Return the coordinates of all nodes refered to by a way in the spherical\n",
    "pseudo-Mercator projection with radius 6378137 meters.\n",
    "\n",
    "## Arguments\n",
    "\n",
    "  - `osm`: an OSM map element\n",
    "\n",
    "  - `way`: an OSM way element\n",
    "\n",
    "## Returns\n",
    "\n",
    "  - `xy`: a NumPy array of floats of shape `(2, n)` \n",
    "    where `n` is the list of nodes in the way.\n",
    "\n",
    "## Usage\n",
    "\n",
    "    >>> osm = {\n",
    "    ...     \"type\": \"osm\",\n",
    "    ...     \"attributes\": [], \n",
    "    ...     \"children\":\n",
    "    ...     [\n",
    "    ...         {\"type\": \"node\", \"attributes\": {\"id\": \"5\", \"lat\": \"45.0\", \"lon\": \"90.0\"}, \"children\": []},\n",
    "    ...         {\"type\": \"node\", \"attributes\": {\"id\": \"42\", \"lat\": \"-45.0\", \"lon\": \"0.0\"}, \"children\": []},\n",
    "    ...         {\"type\": \"node\", \"attributes\": {\"id\": \"0\", \"lat\": \"0.0\", \"lon\": \"0.0\"}, \"children\": []},\n",
    "    ...         {\"type\": \"way\", \"attributes\": {}, \"children\":\n",
    "    ...             [\n",
    "    ...               {\"type\": \"nd\", \"attributes\": {\"ref\": \"42\"}, \"children\": []},\n",
    "    ...               {\"type\": \"nd\", \"attributes\": {\"ref\": \"5\"}, \"children\": []},\n",
    "    ...               {\"type\": \"nd\", \"attributes\": {\"ref\": \"0\"}, \"children\": []},\n",
    "    ...             ]\n",
    "    ...         }\n",
    "    ...     ]\n",
    "    ... }\n",
    "    >>> way = search(osm, \"way\")[0]\n",
    "    >>> compute_xy(osm, way)\n",
    "    array([[ 0.00000000e+00,  1.00187542e+07,  0.00000000e+00],\n",
    "           [-5.62152149e+06,  5.62152149e+06, -7.08115455e-10]])\n",
    "\"\"\")"
   ]
  },
  {
   "cell_type": "markdown",
   "id": "269e5438",
   "metadata": {},
   "source": [
    "🏗️ Représenter à nouveau la carte dans ce nouveau système de coordonnées.\n",
    "Est-ce que cela améliore la situation ?"
   ]
  },
  {
   "cell_type": "code",
   "execution_count": null,
   "id": "f1c7f76a",
   "metadata": {},
   "outputs": [],
   "source": [
    "pass"
   ]
  },
  {
   "cell_type": "markdown",
   "id": "f2292386",
   "metadata": {},
   "source": [
    "Les voies représentant un contour fermé délimite des espaces sur la carte, \n",
    "que l'on peut colorier selon leur nature (décrite par les tags associés à\n",
    "la voie) pour rendre la carte plus informative. \n",
    "\n",
    "🏗️ Déterminez quelles clés (et éventuellement valeurs) de tags caractérisent :\n",
    "\n",
    "  - les parcs.\n",
    "\n",
    "  - les espaces avec de l'herbe, des bois ou des vergers.\n",
    "\n",
    "  - les espaces occupés par de l'eau.\n",
    "\n",
    "  - les espaces sportifs.\n",
    "\n",
    "  - les bâtiments (de tout type).\n",
    "\n",
    "puis choisir une couleur appropriée pour chaque type.\n",
    "\n",
    "### Référence\n",
    "\n",
    "  - 📖 [Open Color](https://yeun.github.io/open-color/)"
   ]
  },
  {
   "cell_type": "code",
   "execution_count": null,
   "id": "2ebd888c",
   "metadata": {},
   "outputs": [],
   "source": [
    "pass"
   ]
  },
  {
   "cell_type": "markdown",
   "id": "b6cf4d3d",
   "metadata": {},
   "source": [
    "🏗️ Tracez une nouvelle carte exploitant ce jeu de couleurs."
   ]
  },
  {
   "cell_type": "code",
   "execution_count": null,
   "id": "e57fad54",
   "metadata": {
    "scrolled": false
   },
   "outputs": [],
   "source": [
    "pass"
   ]
  }
 ],
 "metadata": {
  "kernelspec": {
   "display_name": "Python 3 (ipykernel)",
   "language": "python",
   "name": "python3"
  },
  "language_info": {
   "codemirror_mode": {
    "name": "ipython",
    "version": 3
   },
   "file_extension": ".py",
   "mimetype": "text/x-python",
   "name": "python",
   "nbconvert_exporter": "python",
   "pygments_lexer": "ipython3",
   "version": "3.9.13"
  },
  "vscode": {
   "interpreter": {
    "hash": "98682df53b9c6a4c99064897e9d1f7a1efd8daa4294918f9037692a5b1472bfd"
   }
  }
 },
 "nbformat": 4,
 "nbformat_minor": 5
}
